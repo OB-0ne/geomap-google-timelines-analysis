{
 "cells": [
  {
   "cell_type": "markdown",
   "metadata": {},
   "source": [
    "## Pre-Procesing\n",
    "\n",
    "- Only using the data between 1st January and 25th December which should cover the year for me\n",
    "    - These are kept in UTC for now as my travels spanned across multiple timezones.\n",
    "    - Some activities had to be reviewed manually to set the start and end dates.\n",
    "    - Checks were done by comparing the activity coordinates manually on google to confirm what the best datetime to be used.\n",
    "    - Extra checks are added by checking the end time with start and end datetime for activity to avoid overlapping activities as defined in the next section.\n",
    "- Google Maps Timeline\n",
    "    - Data is divided into 4 types - Visits, Activities, Timeline Paths, and Timeline Memory\n",
    "    - **Visit**: Usually stores when you have been static on the map for a while, unsure how this works fully as it tends to capture highway stops but misses some restaurant visits. Connectivty could be a factor.\n",
    "    - **Activity**: While movement is detected, google tries to predict if you were driving, walking, cycling, etc. This provides info on strat and end coordinates along with distace - so speed is a factor used to determine activity type. Again bad connectivity could factor in for error.\n",
    "    - **Timeline Paths**: While activities only store the start and end coordinates along with their time, Timeline Paths store a dictionary of coordinates between those times to give a full picture of points visited usually captured at a frequency of few minutes.\n",
    "    - **Timeline Memory** - My data contained very little of these for me to make any concrete definition for them and they have not been used in the analysis.\n",
    "- Each row in JSON data can depict either of the above types and need a check to fill in an NA values to make their identification easier.\n"
   ]
  },
  {
   "cell_type": "code",
   "execution_count": 5,
   "metadata": {},
   "outputs": [],
   "source": [
    "from datetime import datetime\n",
    "import pandas as pd\n",
    "import numpy as np\n",
    "import json\n",
    "import matplotlib.pyplot as plt\n",
    "\n",
    "# read the JSON file\n",
    "with open('data/Timeline_backup_20241224.json') as json_data:\n",
    "    data = json.load(json_data)\n",
    "    df_timelines = pd.json_normalize(data['semanticSegments'])\n",
    "\n",
    "# PRE_PROCESSING\n",
    "\n",
    "# replace any null values for columns being used\n",
    "df_timelines['timelinePath'] = df_timelines['timelinePath'].fillna(0)\n",
    "df_timelines['visit.probability'] = df_timelines['visit.probability'].fillna(0)\n",
    "df_timelines['activity.probability'] = df_timelines['activity.probability'].fillna(0)\n",
    "\n",
    "# convert to datetime format\n",
    "df_timelines['startTime'] = pd.to_datetime(df_timelines['startTime'], utc=True)\n",
    "df_timelines['endTime'] = pd.to_datetime(df_timelines['endTime'], utc=True)\n",
    "\n",
    "# filter only for the needed travel dates\n",
    "travel_start_date = '2024-01-01 16:00:00'\n",
    "travel_end_date = '2024-12-24 05:30:00'\n",
    "\n",
    "df_timelines = df_timelines[df_timelines['startTime'] >= pd.to_datetime(travel_start_date, utc=True)]\n",
    "df_timelines = df_timelines[df_timelines['startTime'] <= pd.to_datetime(travel_end_date, utc=True)]\n",
    "df_timelines = df_timelines[df_timelines['endTime'] <= pd.to_datetime(travel_end_date, utc=True)]\n",
    "\n",
    "# reset the index before finalized the data frame\n",
    "df_timelines = df_timelines.reset_index(drop=True)"
   ]
  },
  {
   "cell_type": "markdown",
   "metadata": {},
   "source": [
    "# Analysis 1\n",
    "- Get the count of most visits over the year and remove \n",
    "- Get it by count of visits to a place on differetn date or time, as well as get it by the time spent at the location\n",
    "\n",
    "## Processing:\n",
    "- Only select the visit related columns and rows for now\n",
    "- Use a split funstion to get the visit lattitude and longitude\n",
    "- Aggregate to get the total visits by count as well as time spent there"
   ]
  },
  {
   "cell_type": "code",
   "execution_count": 6,
   "metadata": {},
   "outputs": [],
   "source": [
    "needed_cols = ['startTime','endTime','visit.hierarchyLevel','visit.probability','visit.topCandidate.placeId','visit.topCandidate.semanticType','visit.topCandidate.probability','visit.topCandidate.placeLocation.latLng']\n",
    "df_temp = df_timelines[df_timelines['visit.probability']!=0]\n",
    "df_temp = df_temp[needed_cols]\n",
    "\n",
    "df_temp['time_spent'] = df_temp['endTime']-df_temp['startTime']\n",
    "df_temp[['visit.lat','visit.long']] = df_temp['visit.topCandidate.placeLocation.latLng'].str.split(',',expand=True)\n",
    "df_temp['visit.lat'] = df_temp['visit.lat'].apply(lambda x: round(float(x[:-2]), 4))\n",
    "df_temp['visit.long'] = df_temp['visit.long'].apply(lambda x: round(float(x[:-2]), 4))"
   ]
  },
  {
   "cell_type": "code",
   "execution_count": null,
   "metadata": {},
   "outputs": [],
   "source": [
    "\n",
    "groupby_cols = ['visit.lat','visit.long']\n",
    "selected_cols = ['time_spent']\n",
    "df_temp = df_temp[df_temp['visit.topCandidate.semanticType']==\"UNKNOWN\"]\n",
    "df_tempGroup_count = df_temp[selected_cols + groupby_cols].groupby(groupby_cols).count().sort_values(by='time_spent',ascending=False).reset_index()\n",
    "df_tempGroup_timeSpent = df_temp[selected_cols + groupby_cols].groupby(groupby_cols).sum().sort_values(by='time_spent',ascending=False).reset_index()\n",
    "\n",
    "# review the outcomes\n",
    "print(df_tempGroup_count[:25])\n",
    "print(df_tempGroup_timeSpent[:35])"
   ]
  }
 ],
 "metadata": {
  "kernelspec": {
   "display_name": "virtual",
   "language": "python",
   "name": "python3"
  },
  "language_info": {
   "codemirror_mode": {
    "name": "ipython",
    "version": 3
   },
   "file_extension": ".py",
   "mimetype": "text/x-python",
   "name": "python",
   "nbconvert_exporter": "python",
   "pygments_lexer": "ipython3",
   "version": "3.7.4"
  }
 },
 "nbformat": 4,
 "nbformat_minor": 2
}
